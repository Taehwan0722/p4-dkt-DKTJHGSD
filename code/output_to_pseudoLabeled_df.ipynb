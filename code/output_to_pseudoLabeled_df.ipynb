{
 "cells": [
  {
   "cell_type": "markdown",
   "id": "0656bcf9-dab0-47ef-9347-888026379ac2",
   "metadata": {},
   "source": [
    "# output.csv 파일에 pseudo labeling적용한 dataframe 생성"
   ]
  },
  {
   "cell_type": "code",
   "execution_count": 11,
   "id": "ab7ac4b6-72bb-4eb0-8eb5-7a135471cb56",
   "metadata": {},
   "outputs": [],
   "source": [
    "import numpy as np\n",
    "import pandas as pd\n",
    "import copy\n",
    "import os"
   ]
  },
  {
   "cell_type": "code",
   "execution_count": 12,
   "id": "9af0c081-12ce-431a-b99a-bf514404d1aa",
   "metadata": {},
   "outputs": [],
   "source": [
    "# set data_dir\n",
    "data_dir = '/opt/ml/input/data/train_dataset'"
   ]
  },
  {
   "cell_type": "code",
   "execution_count": 15,
   "id": "83714fef-fdf2-4af7-9e4e-bf4c6619e490",
   "metadata": {},
   "outputs": [
    {
     "name": "stdout",
     "output_type": "stream",
     "text": [
      "[  test_predict  ] :  744\n"
     ]
    }
   ],
   "source": [
    "# read saved output.csv \n",
    "csv_file_path = os.path.join(data_dir, 'output.csv')\n",
    "test_predict = pd.read_csv(csv_file_path)\n",
    "test_predict = test_predict['prediction']  \n",
    "\n",
    "print('[  test_predict  ] : ', len(test_predict))"
   ]
  },
  {
   "cell_type": "code",
   "execution_count": 3,
   "id": "4453c71e-0f1f-4be2-b1db-e9bdd2a4dbd4",
   "metadata": {},
   "outputs": [
    {
     "name": "stdout",
     "output_type": "stream",
     "text": [
      "[  pseudo_labels  ] :  744\n"
     ]
    }
   ],
   "source": [
    "#apply pseudo labeling\n",
    "pseudo_labels=[]\n",
    "for x in test_predict:\n",
    "    pseudo_labels.append(1 if x>=0.5 else 0)\n",
    "    \n",
    "print('[  pseudo_labels  ] : ', len(pseudo_labels))"
   ]
  },
  {
   "cell_type": "code",
   "execution_count": 18,
   "id": "4b0bf86d-2957-4563-9429-e7e38a4db3fe",
   "metadata": {},
   "outputs": [
    {
     "name": "stdout",
     "output_type": "stream",
     "text": [
      "[  pseudo_labels  ] :  744\n"
     ]
    }
   ],
   "source": [
    "test_data_file_path = os.path.join(data_dir, 'test_data.csv')\n",
    "test_data = pd.read_csv(test_data_file_path, parse_dates=['Timestamp']) # read test dataframe \n",
    "pseudo_test_data = test_data[test_data.answerCode==-1] # copy test_data to be filled with pseudo_labels  \n",
    "pseudo_test_data = test_data.sort_values(by=['userID','Timestamp'], axis=0)\n",
    "\n",
    "print('[  pseudo_test_data  ] : ', len(pseudo_test_data))"
   ]
  },
  {
   "cell_type": "code",
   "execution_count": 19,
   "id": "e38eb283-573b-4273-b7af-ea3be0d942bd",
   "metadata": {},
   "outputs": [
    {
     "name": "stderr",
     "output_type": "stream",
     "text": [
      "/opt/conda/lib/python3.7/site-packages/ipykernel_launcher.py:3: SettingWithCopyWarning: \n",
      "A value is trying to be set on a copy of a slice from a DataFrame\n",
      "\n",
      "See the caveats in the documentation: https://pandas.pydata.org/pandas-docs/stable/user_guide/indexing.html#returning-a-view-versus-a-copy\n",
      "  This is separate from the ipykernel package so we can avoid doing imports until\n"
     ]
    },
    {
     "name": "stdout",
     "output_type": "stream",
     "text": [
      "[  pseudo_test_data  ] :  260114\n"
     ]
    }
   ],
   "source": [
    "# update pseudo labeled data\n",
    "for i, pseudo_label in enumerate(pseudo_labels):\n",
    "    pseudo_test_data.answerCode[i] = pseudo_label\n",
    "    \n",
    "print('[  pseudo_test_data  ] : ', len(pseudo_test_data))"
   ]
  },
  {
   "cell_type": "code",
   "execution_count": 6,
   "id": "de95b6f8-17f5-4950-be75-51ebbfe6cdc6",
   "metadata": {},
   "outputs": [
    {
     "name": "stdout",
     "output_type": "stream",
     "text": [
      "[  train_data  ] :  2266586\n",
      "[  pseudo_test_data  ] :  260114\n",
      "----------------------------------------\n",
      "[  pseudo_labeled_data  ] :  2526700\n"
     ]
    }
   ],
   "source": [
    "train_data_file_path = os.path.join(data_dir, 'train_data.csv')\n",
    "train_data = pd.read_csv(train_data_file_path, parse_dates=['Timestamp']) # read train dataframe \n",
    "train_data['pseudo'] = False\n",
    "pseudo_test_data['pseudo'] = True\n",
    "pseudo_labeled_data = pd.concat([train_data, pseudo_test_data])\n",
    "\n",
    "print('[  train_data  ] : ', len(train_data))\n",
    "print('[  pseudo_test_data  ] : ', len(pseudo_test_data))\n",
    "print(\"-\"*40)\n",
    "print('[  pseudo_labeled_data  ] : ', len(pseudo_labeled_data))"
   ]
  },
  {
   "cell_type": "code",
   "execution_count": 20,
   "id": "d68178f6-a8e0-44cd-953b-7e6bcfbe4e89",
   "metadata": {},
   "outputs": [],
   "source": [
    "#save pseudo_labeled dataframe (pseudo_labeling.csv)\n",
    "pseudo_labeled_data_file_path = os.path.join(data_dir, 'pseudo_labeling.csv')\n",
    "pseudo_labeled_data.to_csv(pseudo_labeled_data_file_path, mode='w')"
   ]
  },
  {
   "cell_type": "code",
   "execution_count": null,
   "id": "f99bcb9c-fc0a-465a-8f5b-cfbfe1b81b2f",
   "metadata": {},
   "outputs": [],
   "source": []
  },
  {
   "cell_type": "code",
   "execution_count": null,
   "id": "55459907-0e2c-4d42-8ae8-9df8881df544",
   "metadata": {},
   "outputs": [],
   "source": []
  }
 ],
 "metadata": {
  "kernelspec": {
   "display_name": "Python 3",
   "language": "python",
   "name": "python3"
  },
  "language_info": {
   "codemirror_mode": {
    "name": "ipython",
    "version": 3
   },
   "file_extension": ".py",
   "mimetype": "text/x-python",
   "name": "python",
   "nbconvert_exporter": "python",
   "pygments_lexer": "ipython3",
   "version": "3.7.7"
  }
 },
 "nbformat": 4,
 "nbformat_minor": 5
}
