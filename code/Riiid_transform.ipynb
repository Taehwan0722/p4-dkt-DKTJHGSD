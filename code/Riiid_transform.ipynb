{
 "cells": [
  {
   "cell_type": "code",
   "execution_count": 1,
   "id": "sweet-damage",
   "metadata": {},
   "outputs": [],
   "source": [
    "import numpy as np\n",
    "import pandas as pd\n",
    "import matplotlib.pyplot as plt"
   ]
  },
  {
   "cell_type": "code",
   "execution_count": 2,
   "id": "impossible-geography",
   "metadata": {},
   "outputs": [
    {
     "name": "stdout",
     "output_type": "stream",
     "text": [
      "Wall time: 3min 8s\n"
     ]
    },
    {
     "data": {
      "text/html": [
       "<div>\n",
       "<style scoped>\n",
       "    .dataframe tbody tr th:only-of-type {\n",
       "        vertical-align: middle;\n",
       "    }\n",
       "\n",
       "    .dataframe tbody tr th {\n",
       "        vertical-align: top;\n",
       "    }\n",
       "\n",
       "    .dataframe thead th {\n",
       "        text-align: right;\n",
       "    }\n",
       "</style>\n",
       "<table border=\"1\" class=\"dataframe\">\n",
       "  <thead>\n",
       "    <tr style=\"text-align: right;\">\n",
       "      <th></th>\n",
       "      <th>row_id</th>\n",
       "      <th>timestamp</th>\n",
       "      <th>user_id</th>\n",
       "      <th>content_id</th>\n",
       "      <th>content_type_id</th>\n",
       "      <th>task_container_id</th>\n",
       "      <th>user_answer</th>\n",
       "      <th>answered_correctly</th>\n",
       "      <th>prior_question_elapsed_time</th>\n",
       "      <th>prior_question_had_explanation</th>\n",
       "    </tr>\n",
       "  </thead>\n",
       "  <tbody>\n",
       "    <tr>\n",
       "      <th>0</th>\n",
       "      <td>0</td>\n",
       "      <td>0</td>\n",
       "      <td>115</td>\n",
       "      <td>5692</td>\n",
       "      <td>0</td>\n",
       "      <td>1</td>\n",
       "      <td>3</td>\n",
       "      <td>1</td>\n",
       "      <td>NaN</td>\n",
       "      <td>NaN</td>\n",
       "    </tr>\n",
       "    <tr>\n",
       "      <th>1</th>\n",
       "      <td>1</td>\n",
       "      <td>56943</td>\n",
       "      <td>115</td>\n",
       "      <td>5716</td>\n",
       "      <td>0</td>\n",
       "      <td>2</td>\n",
       "      <td>2</td>\n",
       "      <td>1</td>\n",
       "      <td>37000.0</td>\n",
       "      <td>False</td>\n",
       "    </tr>\n",
       "    <tr>\n",
       "      <th>2</th>\n",
       "      <td>2</td>\n",
       "      <td>118363</td>\n",
       "      <td>115</td>\n",
       "      <td>128</td>\n",
       "      <td>0</td>\n",
       "      <td>0</td>\n",
       "      <td>0</td>\n",
       "      <td>1</td>\n",
       "      <td>55000.0</td>\n",
       "      <td>False</td>\n",
       "    </tr>\n",
       "    <tr>\n",
       "      <th>3</th>\n",
       "      <td>3</td>\n",
       "      <td>131167</td>\n",
       "      <td>115</td>\n",
       "      <td>7860</td>\n",
       "      <td>0</td>\n",
       "      <td>3</td>\n",
       "      <td>0</td>\n",
       "      <td>1</td>\n",
       "      <td>19000.0</td>\n",
       "      <td>False</td>\n",
       "    </tr>\n",
       "    <tr>\n",
       "      <th>4</th>\n",
       "      <td>4</td>\n",
       "      <td>137965</td>\n",
       "      <td>115</td>\n",
       "      <td>7922</td>\n",
       "      <td>0</td>\n",
       "      <td>4</td>\n",
       "      <td>1</td>\n",
       "      <td>1</td>\n",
       "      <td>11000.0</td>\n",
       "      <td>False</td>\n",
       "    </tr>\n",
       "  </tbody>\n",
       "</table>\n",
       "</div>"
      ],
      "text/plain": [
       "   row_id  timestamp  user_id  content_id  content_type_id  task_container_id  \\\n",
       "0       0          0      115        5692                0                  1   \n",
       "1       1      56943      115        5716                0                  2   \n",
       "2       2     118363      115         128                0                  0   \n",
       "3       3     131167      115        7860                0                  3   \n",
       "4       4     137965      115        7922                0                  4   \n",
       "\n",
       "   user_answer  answered_correctly  prior_question_elapsed_time  \\\n",
       "0            3                   1                          NaN   \n",
       "1            2                   1                      37000.0   \n",
       "2            0                   1                      55000.0   \n",
       "3            0                   1                      19000.0   \n",
       "4            1                   1                      11000.0   \n",
       "\n",
       "  prior_question_had_explanation  \n",
       "0                            NaN  \n",
       "1                          False  \n",
       "2                          False  \n",
       "3                          False  \n",
       "4                          False  "
      ]
     },
     "execution_count": 2,
     "metadata": {},
     "output_type": "execute_result"
    }
   ],
   "source": [
    "%%time\n",
    "\n",
    "# 데이터 경로 맞춰주세요!\n",
    "TRAIN_DATA_PATH = './riiid_data/train.csv'\n",
    "df_train = pd.read_csv(TRAIN_DATA_PATH)\n",
    "df_train.head()"
   ]
  },
  {
   "cell_type": "code",
   "execution_count": null,
   "id": "accomplished-funeral",
   "metadata": {},
   "outputs": [],
   "source": [
    "# 데이터 경로 맞춰주세요!\n",
    "QUESTION_DATA_PATH = './riiid_data/questions.csv'\n",
    "df_question = pd.read_csv(QUESTION_DATA_PATH)\n",
    "df_question.head()"
   ]
  },
  {
   "cell_type": "code",
   "execution_count": null,
   "id": "annoying-turning",
   "metadata": {},
   "outputs": [],
   "source": [
    "# 필요없는 데이터 drop하기\n",
    "df_train = df_train.drop(['row_id', 'content_type_id', 'user_answer', 'prior_question_elapsed_time', 'prior_question_had_explanation'], axis=1)"
   ]
  },
  {
   "cell_type": "code",
   "execution_count": null,
   "id": "laughing-motel",
   "metadata": {},
   "outputs": [],
   "source": [
    "# 메모리 부족할 경우 아래 코드 사용해서 저장 후 다시 불러오기\n",
    "# df_train.to_csv('riiid.csv', index=False, header=True)"
   ]
  },
  {
   "cell_type": "code",
   "execution_count": null,
   "id": "norwegian-narrow",
   "metadata": {},
   "outputs": [],
   "source": [
    "# df_train = pd.read_csv('riiid.csv')"
   ]
  },
  {
   "cell_type": "code",
   "execution_count": 3,
   "id": "exact-couple",
   "metadata": {},
   "outputs": [
    {
     "name": "stdout",
     "output_type": "stream",
     "text": [
      "before filtering:  101230332\n",
      "after filtering:  99271300\n"
     ]
    }
   ],
   "source": [
    "# lecture 관련 data drop하기\n",
    "print('before filtering: ', len(df_train['answered_correctly']))\n",
    "df_train = df_train[df_train['answered_correctly'] != -1]\n",
    "print('after filtering: ', len(df_train['answered_correctly']))"
   ]
  },
  {
   "cell_type": "code",
   "execution_count": null,
   "id": "furnished-carrier",
   "metadata": {},
   "outputs": [],
   "source": [
    "# train과 qustion 관련 table 합치기\n",
    "df_train = pd.merge(df_train, df_question, left_on=\"content_id\", right_on=\"question_id\", how='left')\n",
    "df_train.head()"
   ]
  },
  {
   "cell_type": "code",
   "execution_count": null,
   "id": "provincial-profession",
   "metadata": {},
   "outputs": [],
   "source": [
    "# 중복되는 column drop\n",
    "df_train = df_train.drop('content_id', axis=1)"
   ]
  },
  {
   "cell_type": "code",
   "execution_count": null,
   "id": "dynamic-lambda",
   "metadata": {},
   "outputs": [],
   "source": [
    "# 메모리 부족할 경우 저장 후 다시 불러오기\n",
    "# df_train.to_csv('riiid.csv', index=False, header=True)"
   ]
  },
  {
   "cell_type": "code",
   "execution_count": null,
   "id": "formed-cache",
   "metadata": {},
   "outputs": [],
   "source": [
    "# df_train = pd.read_csv('riiid.csv')"
   ]
  },
  {
   "cell_type": "code",
   "execution_count": null,
   "id": "varied-school",
   "metadata": {},
   "outputs": [],
   "source": [
    "# 대회 트레인 셋에 맞게 testId 생성\n",
    "df_train['task_container_id'] = df_train['task_container_id'].astype('str')\n",
    "df_train['task_container_id'] = df_train['task_container_id'].apply(lambda x: '0' + '00' + ('0' * (4 - len(x))) + x)\n",
    "\n",
    "df_train['part'] = df_train['part'].astype('str')\n",
    "df_train['part'] = df_train['part'].apply(lambda x: 'A0' + x)\n",
    "\n",
    "df_train['testId'] = df_train['part'] + df_train['task_container_id']"
   ]
  },
  {
   "cell_type": "code",
   "execution_count": null,
   "id": "burning-presentation",
   "metadata": {},
   "outputs": [],
   "source": [
    "# 메모리 부족할 경우 저장 후 다시 불러오기\n",
    "# df_train.to_csv('riiid.csv', index=False, header=True)"
   ]
  },
  {
   "cell_type": "code",
   "execution_count": null,
   "id": "satellite-raleigh",
   "metadata": {},
   "outputs": [],
   "source": [
    "# df_train = pd.read_csv('riiid.csv')"
   ]
  },
  {
   "cell_type": "code",
   "execution_count": null,
   "id": "crude-netscape",
   "metadata": {},
   "outputs": [],
   "source": [
    "# 필요없는 column 드랍하기\n",
    "df_train = df_train.drop(['task_container_id', 'part'], axis=1)"
   ]
  },
  {
   "cell_type": "code",
   "execution_count": null,
   "id": "correct-salad",
   "metadata": {},
   "outputs": [],
   "source": [
    "# 대회 train set에 맞게 assessmentItemID 생성\n",
    "df_train['pre_asses_id'] = df_train['testId'].apply(lambda x: x[0] + x[2] + x[-3:])"
   ]
  },
  {
   "cell_type": "code",
   "execution_count": null,
   "id": "joint-cache",
   "metadata": {},
   "outputs": [],
   "source": [
    "# 메모리 부족할 경우 저장 후 다시 불러오기\n",
    "# df_train.to_csv('riiid.csv', index=False, header=True)"
   ]
  },
  {
   "cell_type": "code",
   "execution_count": null,
   "id": "packed-chorus",
   "metadata": {},
   "outputs": [],
   "source": [
    "# df_train = pd.read_csv('riiid.csv')"
   ]
  },
  {
   "cell_type": "code",
   "execution_count": null,
   "id": "prescribed-belfast",
   "metadata": {},
   "outputs": [],
   "source": [
    "df_train['question_id'] = df_train['question_id'].astype('str')\n",
    "df_train['question_id'] = df_train['question_id'].apply(lambda x: ('0' * (5 - len(x))) + x)"
   ]
  },
  {
   "cell_type": "code",
   "execution_count": null,
   "id": "caring-offense",
   "metadata": {},
   "outputs": [],
   "source": [
    "# 메모리 부족할 경우 저장 후 다시 불러오기\n",
    "# df_train.to_csv('riiid.csv', index=False, header=True)"
   ]
  },
  {
   "cell_type": "code",
   "execution_count": null,
   "id": "adaptive-updating",
   "metadata": {},
   "outputs": [],
   "source": [
    "# df_train = pd.read_csv('riiid.csv')"
   ]
  },
  {
   "cell_type": "code",
   "execution_count": null,
   "id": "atomic-majority",
   "metadata": {},
   "outputs": [],
   "source": [
    "df_train['assessmentItemID'] = df_train['pre_asses_id'] + df_train['question_id']"
   ]
  },
  {
   "cell_type": "code",
   "execution_count": null,
   "id": "documentary-peeing",
   "metadata": {},
   "outputs": [],
   "source": [
    "# 필요 없는 column들 drop하기\n",
    "df_train = df_train.drop(['question_id', 'pre_asses_id'], axis=1)"
   ]
  },
  {
   "cell_type": "code",
   "execution_count": null,
   "id": "wound-archive",
   "metadata": {},
   "outputs": [],
   "source": [
    "# 메모리 부족할 경우 저장 후 다시 불러오기\n",
    "# df_train.to_csv('riiid.csv', index=False, header=True)"
   ]
  },
  {
   "cell_type": "code",
   "execution_count": 2,
   "id": "precious-kingdom",
   "metadata": {},
   "outputs": [],
   "source": [
    "# df_train = pd.read_csv('riiid.csv')"
   ]
  },
  {
   "cell_type": "code",
   "execution_count": 3,
   "id": "differential-equity",
   "metadata": {},
   "outputs": [
    {
     "data": {
      "text/html": [
       "<div>\n",
       "<style scoped>\n",
       "    .dataframe tbody tr th:only-of-type {\n",
       "        vertical-align: middle;\n",
       "    }\n",
       "\n",
       "    .dataframe tbody tr th {\n",
       "        vertical-align: top;\n",
       "    }\n",
       "\n",
       "    .dataframe thead th {\n",
       "        text-align: right;\n",
       "    }\n",
       "</style>\n",
       "<table border=\"1\" class=\"dataframe\">\n",
       "  <thead>\n",
       "    <tr style=\"text-align: right;\">\n",
       "      <th></th>\n",
       "      <th>Timestamp</th>\n",
       "      <th>userID</th>\n",
       "      <th>answerCode</th>\n",
       "      <th>tags</th>\n",
       "      <th>testId</th>\n",
       "      <th>assessmentItemID</th>\n",
       "    </tr>\n",
       "  </thead>\n",
       "  <tbody>\n",
       "    <tr>\n",
       "      <th>0</th>\n",
       "      <td>0</td>\n",
       "      <td>115</td>\n",
       "      <td>1</td>\n",
       "      <td>151</td>\n",
       "      <td>A050000001</td>\n",
       "      <td>A500105692</td>\n",
       "    </tr>\n",
       "    <tr>\n",
       "      <th>1</th>\n",
       "      <td>56943</td>\n",
       "      <td>115</td>\n",
       "      <td>1</td>\n",
       "      <td>168</td>\n",
       "      <td>A050000002</td>\n",
       "      <td>A500205716</td>\n",
       "    </tr>\n",
       "    <tr>\n",
       "      <th>2</th>\n",
       "      <td>118363</td>\n",
       "      <td>115</td>\n",
       "      <td>1</td>\n",
       "      <td>131 149 92</td>\n",
       "      <td>A010000000</td>\n",
       "      <td>A100000128</td>\n",
       "    </tr>\n",
       "    <tr>\n",
       "      <th>3</th>\n",
       "      <td>131167</td>\n",
       "      <td>115</td>\n",
       "      <td>1</td>\n",
       "      <td>131 104 81</td>\n",
       "      <td>A010000003</td>\n",
       "      <td>A100307860</td>\n",
       "    </tr>\n",
       "    <tr>\n",
       "      <th>4</th>\n",
       "      <td>137965</td>\n",
       "      <td>115</td>\n",
       "      <td>1</td>\n",
       "      <td>131 149 92</td>\n",
       "      <td>A010000004</td>\n",
       "      <td>A100407922</td>\n",
       "    </tr>\n",
       "  </tbody>\n",
       "</table>\n",
       "</div>"
      ],
      "text/plain": [
       "   Timestamp  userID  answerCode        tags      testId assessmentItemID\n",
       "0          0     115           1         151  A050000001       A500105692\n",
       "1      56943     115           1         168  A050000002       A500205716\n",
       "2     118363     115           1  131 149 92  A010000000       A100000128\n",
       "3     131167     115           1  131 104 81  A010000003       A100307860\n",
       "4     137965     115           1  131 149 92  A010000004       A100407922"
      ]
     },
     "execution_count": 3,
     "metadata": {},
     "output_type": "execute_result"
    }
   ],
   "source": [
    "# 대회 dataset에 맞게 column 이름 변경\n",
    "df_train = df_train.rename(columns={'timestamp': 'Timestamp', 'user_id': 'userID', 'answered_correctly': 'answerCode'})"
   ]
  },
  {
   "cell_type": "code",
   "execution_count": 4,
   "id": "female-lithuania",
   "metadata": {},
   "outputs": [],
   "source": [
    "# 대회 트레인 셋에 맞게 KnowledgeTag 생성\n",
    "df_train['tags'] = df_train['tags'].astype('str')\n",
    "df_train['KnowledgeTag'] = df_train['tags'].apply(lambda x: x.split(' ')[0])"
   ]
  },
  {
   "cell_type": "code",
   "execution_count": 5,
   "id": "neither-nightmare",
   "metadata": {},
   "outputs": [],
   "source": [
    "df_train['KnowledgeTag'] = df_train['KnowledgeTag'].fillna(0)"
   ]
  },
  {
   "cell_type": "code",
   "execution_count": 7,
   "id": "indirect-stanford",
   "metadata": {},
   "outputs": [
    {
     "data": {
      "text/plain": [
       "False"
      ]
     },
     "execution_count": 7,
     "metadata": {},
     "output_type": "execute_result"
    }
   ],
   "source": [
    "# Null value가 있는지 체크\n",
    "df_train.isnull().values.any()"
   ]
  },
  {
   "cell_type": "code",
   "execution_count": 12,
   "id": "alternate-amazon",
   "metadata": {},
   "outputs": [],
   "source": [
    "# 필요없는 데이터 drop\n",
    "df_train = df_train.drop('tags', axis=1)"
   ]
  },
  {
   "cell_type": "code",
   "execution_count": 14,
   "id": "continued-italian",
   "metadata": {},
   "outputs": [],
   "source": [
    "# 최종 데이터 저장\n",
    "df_train.to_csv('riiid.csv', index=False, header=True)"
   ]
  },
  {
   "cell_type": "code",
   "execution_count": 6,
   "id": "musical-cornwall",
   "metadata": {},
   "outputs": [],
   "source": [
    "# 데이터가 너무 큰 경우 대비해서 10% 데이터만 저장\n",
    "df_riiid_short = df_train[:len(df_riiid)//10]\n",
    "df_riiid_short.to_csv('riiid_sec1.csv', index=False, header=True)"
   ]
  }
 ],
 "metadata": {
  "kernelspec": {
   "display_name": "Python 3",
   "language": "python",
   "name": "python3"
  },
  "language_info": {
   "codemirror_mode": {
    "name": "ipython",
    "version": 3
   },
   "file_extension": ".py",
   "mimetype": "text/x-python",
   "name": "python",
   "nbconvert_exporter": "python",
   "pygments_lexer": "ipython3",
   "version": "3.8.5"
  }
 },
 "nbformat": 4,
 "nbformat_minor": 5
}
